{
 "cells": [
  {
   "cell_type": "code",
   "execution_count": 5,
   "metadata": {},
   "outputs": [
    {
     "name": "stderr",
     "output_type": "stream",
     "text": [
      "[INFO] 2018-04-29 10:46:19,856 MainSearch\tINITING...\n",
      "[INFO] 2018-04-29 10:46:19,859 FaceRecog\tINITING...\n",
      "[INFO] 2018-04-29 10:46:21,225 ObjectDet\tINITING...\n",
      "[INFO] 2018-04-29 10:46:21,941 Total 1 lists allocated\n",
      "[INFO] 2018-04-29 10:46:21,943 Total 1 lists allocated\n",
      "[INFO] 2018-04-29 10:46:21,977 Total 1 lists allocated\n",
      "/home/zhang/anaconda3/lib/python3.6/site-packages/keras/models.py:258: UserWarning: No training configuration found in save file: the model was *not* compiled. Compile it manually.\n",
      "  warnings.warn('No training configuration found in save file: '\n",
      "[INFO] 2018-04-29 10:46:24,792 FeatureIndex\tINITING...\n",
      "[INFO] 2018-04-29 10:46:24,795 PersonFace\tINITING...\n",
      "[INFO] 2018-04-29 10:46:24,811 FaceRecog\tINITING...\n",
      "[INFO] 2018-04-29 10:46:24,869 Loading index from Data/Indexs/Faces/0825-1031-1030_faces_index.bin\n",
      "[INFO] 2018-04-29 10:46:24,882 Loading optimized index.\n",
      "[INFO] 2018-04-29 10:46:24,883 searchMethod: 3\n",
      "[INFO] 2018-04-29 10:46:24,884 Total: 2943, Memory per object: 8332\n"
     ]
    },
    {
     "name": "stdout",
     "output_type": "stream",
     "text": [
      "Successfully connect to database.\n",
      "Successfully connect to database.\n"
     ]
    },
    {
     "name": "stderr",
     "output_type": "stream",
     "text": [
      "[INFO] 2018-04-29 10:46:25,154 Finished loading index\n",
      "[INFO] 2018-04-29 10:46:25,155 Set HNSW query-time parameters:\n",
      "[INFO] 2018-04-29 10:46:25,156 ef(Search)         =20\n",
      "[INFO] 2018-04-29 10:46:25,157 algoType           =2\n",
      "[INFO] 2018-04-29 10:46:25,168 Loading index from Data/Indexs/Content/0825-1031-1030_content_index.bin\n",
      "[INFO] 2018-04-29 10:46:25,169 Loading optimized index.\n",
      "[INFO] 2018-04-29 10:46:25,170 searchMethod: 3\n",
      "[INFO] 2018-04-29 10:46:25,171 Total: 2228, Memory per object: 613840\n",
      "[INFO] 2018-04-29 10:46:42,157 Finished loading index\n",
      "[INFO] 2018-04-29 10:46:42,158 Set HNSW query-time parameters:\n",
      "[INFO] 2018-04-29 10:46:42,159 ef(Search)         =20\n",
      "[INFO] 2018-04-29 10:46:42,160 algoType           =2\n",
      "[INFO] 2018-04-29 10:46:42,257 Loading index from Data/Indexs/Person/Person_person_index.bin\n",
      "[INFO] 2018-04-29 10:46:42,271 Loading optimized index.\n",
      "[INFO] 2018-04-29 10:46:42,272 searchMethod: 3\n",
      "[INFO] 2018-04-29 10:46:42,273 Total: 48, Memory per object: 8332\n",
      "[INFO] 2018-04-29 10:46:42,315 Finished loading index\n",
      "[INFO] 2018-04-29 10:46:42,316 Set HNSW query-time parameters:\n",
      "[INFO] 2018-04-29 10:46:42,317 ef(Search)         =20\n",
      "[INFO] 2018-04-29 10:46:42,317 algoType           =2\n"
     ]
    }
   ],
   "source": [
    "import json\n",
    "import os,uuid\n",
    "from MainSearch import MainSearch\n",
    "import time\n",
    "\n",
    "ms = MainSearch(prefix='0825-1031-1030', max_len = 10, imagename=\"Data/Tmp/1.jpg\",isShow=True)\n",
    "# ms.create_indexs(True)\n",
    "# ms = MainSearch(prefix='test', imagename=\"Data/Tmp/tmp.png\",isShow=True)\n",
    "ms.load_index()"
   ]
  },
  {
   "cell_type": "code",
   "execution_count": 6,
   "metadata": {},
   "outputs": [
    {
     "name": "stderr",
     "output_type": "stream",
     "text": [
      "[INFO] 2018-04-29 10:47:15,966 Set HNSW query-time parameters:\n",
      "[INFO] 2018-04-29 10:47:15,967 ef(Search)         =100\n",
      "[INFO] 2018-04-29 10:47:15,968 algoType           =2\n"
     ]
    },
    {
     "name": "stdout",
     "output_type": "stream",
     "text": [
      "[[(350, 179), (401, 186), (374, 218), (346, 239), (389, 245)]]\n"
     ]
    },
    {
     "ename": "NameError",
     "evalue": "name 'distance' is not defined",
     "output_type": "error",
     "traceback": [
      "\u001b[0;31m---------------------------------------------------------------------------\u001b[0m",
      "\u001b[0;31mNameError\u001b[0m                                 Traceback (most recent call last)",
      "\u001b[0;32m<ipython-input-6-addc000f3a84>\u001b[0m in \u001b[0;36m<module>\u001b[0;34m()\u001b[0m\n\u001b[0;32m----> 1\u001b[0;31m \u001b[0mprint\u001b[0m\u001b[0;34m(\u001b[0m\u001b[0mms\u001b[0m\u001b[0;34m.\u001b[0m\u001b[0mget_search_result_JSON\u001b[0m\u001b[0;34m(\u001b[0m\u001b[0;34m)\u001b[0m\u001b[0;34m)\u001b[0m\u001b[0;34m\u001b[0m\u001b[0m\n\u001b[0m",
      "\u001b[0;32m~/AI/VideoSearch/MainSearch.py\u001b[0m in \u001b[0;36mget_search_result_JSON\u001b[0;34m(self)\u001b[0m\n\u001b[1;32m    210\u001b[0m         \u001b[0mTODO\u001b[0m\u001b[0;34m:\u001b[0m \u001b[0m完成物体搜索结果\u001b[0m\u001b[0;34m\u001b[0m\u001b[0m\n\u001b[1;32m    211\u001b[0m         \"\"\"\n\u001b[0;32m--> 212\u001b[0;31m         \u001b[0mface_idlist\u001b[0m \u001b[0;34m=\u001b[0m \u001b[0mself\u001b[0m\u001b[0;34m.\u001b[0m\u001b[0msearch_face\u001b[0m\u001b[0;34m(\u001b[0m\u001b[0;34m)\u001b[0m\u001b[0;34m[\u001b[0m\u001b[0;34m:\u001b[0m\u001b[0mself\u001b[0m\u001b[0;34m.\u001b[0m\u001b[0mmax_len\u001b[0m\u001b[0;34m]\u001b[0m\u001b[0;34m\u001b[0m\u001b[0m\n\u001b[0m\u001b[1;32m    213\u001b[0m         \u001b[0mface_results\u001b[0m \u001b[0;34m=\u001b[0m \u001b[0mself\u001b[0m\u001b[0;34m.\u001b[0m\u001b[0mget_face_to_video_sceneinfo\u001b[0m\u001b[0;34m(\u001b[0m\u001b[0mface_idlist\u001b[0m\u001b[0;34m)\u001b[0m\u001b[0;34m\u001b[0m\u001b[0m\n\u001b[1;32m    214\u001b[0m         \u001b[0mself\u001b[0m\u001b[0;34m.\u001b[0m\u001b[0mlg\u001b[0m\u001b[0;34m(\u001b[0m\u001b[0;34m'FACE:'\u001b[0m \u001b[0;34m+\u001b[0m \u001b[0mstr\u001b[0m\u001b[0;34m(\u001b[0m\u001b[0mlen\u001b[0m\u001b[0;34m(\u001b[0m\u001b[0mface_idlist\u001b[0m\u001b[0;34m)\u001b[0m\u001b[0;34m)\u001b[0m\u001b[0;34m)\u001b[0m\u001b[0;34m\u001b[0m\u001b[0m\n",
      "\u001b[0;32m~/AI/VideoSearch/MainSearch.py\u001b[0m in \u001b[0;36msearch_face\u001b[0;34m(self)\u001b[0m\n\u001b[1;32m    112\u001b[0m         \u001b[0mquery_result\u001b[0m\u001b[0;34m,\u001b[0m\u001b[0mdistance\u001b[0m \u001b[0;34m=\u001b[0m \u001b[0mself\u001b[0m\u001b[0;34m.\u001b[0m\u001b[0msearchfeature\u001b[0m\u001b[0;34m.\u001b[0m\u001b[0mqueryFace\u001b[0m\u001b[0;34m(\u001b[0m\u001b[0mquery_feat\u001b[0m\u001b[0;34m)\u001b[0m\u001b[0;34m\u001b[0m\u001b[0m\n\u001b[1;32m    113\u001b[0m         \u001b[0;31m# 选取\u001b[0m\u001b[0;34m\u001b[0m\u001b[0;34m\u001b[0m\u001b[0m\n\u001b[0;32m--> 114\u001b[0;31m         \u001b[0mmax_index\u001b[0m \u001b[0;34m=\u001b[0m \u001b[0mself\u001b[0m\u001b[0;34m.\u001b[0m\u001b[0mselectByDistance\u001b[0m\u001b[0;34m(\u001b[0m\u001b[0mdistance\u001b[0m\u001b[0;34m,\u001b[0m \u001b[0mself\u001b[0m\u001b[0;34m.\u001b[0m\u001b[0mfaceThreshhold\u001b[0m\u001b[0;34m)\u001b[0m\u001b[0;34m\u001b[0m\u001b[0m\n\u001b[0m\u001b[1;32m    115\u001b[0m         \u001b[0mquery_result\u001b[0m \u001b[0;34m=\u001b[0m \u001b[0mquery_result\u001b[0m\u001b[0;34m[\u001b[0m\u001b[0;34m:\u001b[0m\u001b[0mmax_index\u001b[0m\u001b[0;34m]\u001b[0m\u001b[0;34m\u001b[0m\u001b[0m\n\u001b[1;32m    116\u001b[0m \u001b[0;34m\u001b[0m\u001b[0m\n",
      "\u001b[0;31mNameError\u001b[0m: name 'distance' is not defined"
     ]
    }
   ],
   "source": [
    "print(ms.get_search_result_JSON())"
   ]
  },
  {
   "cell_type": "code",
   "execution_count": null,
   "metadata": {},
   "outputs": [],
   "source": []
  }
 ],
 "metadata": {
  "kernelspec": {
   "display_name": "Python 3",
   "language": "python",
   "name": "python3"
  },
  "language_info": {
   "codemirror_mode": {
    "name": "ipython",
    "version": 3
   },
   "file_extension": ".py",
   "mimetype": "text/x-python",
   "name": "python",
   "nbconvert_exporter": "python",
   "pygments_lexer": "ipython3",
   "version": "3.6.4"
  }
 },
 "nbformat": 4,
 "nbformat_minor": 2
}
